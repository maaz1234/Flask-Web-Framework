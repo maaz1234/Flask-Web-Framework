{
  "nbformat": 4,
  "nbformat_minor": 0,
  "metadata": {
    "colab": {
      "name": "detectoutliers.ipynb",
      "provenance": [],
      "authorship_tag": "ABX9TyM7O3JkHkZ/urD71EBguLJ+",
      "include_colab_link": true
    },
    "kernelspec": {
      "name": "python3",
      "display_name": "Python 3"
    },
    "language_info": {
      "name": "python"
    }
  },
  "cells": [
    {
      "cell_type": "markdown",
      "metadata": {
        "id": "view-in-github",
        "colab_type": "text"
      },
      "source": [
        "<a href=\"https://colab.research.google.com/github/maaz1234/Flask-Web-Framework/blob/main/detectoutliers.ipynb\" target=\"_parent\"><img src=\"https://colab.research.google.com/assets/colab-badge.svg\" alt=\"Open In Colab\"/></a>"
      ]
    },
    {
      "cell_type": "code",
      "metadata": {
        "id": "M04iHfmIkQUh"
      },
      "source": [
        "import numpy as np\n",
        "import matplotlib.pyplot as plt\n",
        "%matplotlib inline"
      ],
      "execution_count": 1,
      "outputs": []
    },
    {
      "cell_type": "code",
      "metadata": {
        "id": "szI6_NBMkdcd"
      },
      "source": [
        "# What are the criteria to identify an outlier?\n",
        "# Data point that falls outside of 1.5 times of an interquartile range above the 3rd quartile and below the 1st quartile\n",
        "# Data point that falls outside of 3 standard deviations. we can use a z score and if the z score falls outside of 2 standard deviation\n",
        "# What is the reason for an outlier to exists in a dataset?\n",
        "# Variability in the data\n",
        "# An experimental measurement error\n",
        "# What are the impacts of having outliers in a dataset?\n",
        "# It causes various problems during our statistical analysis\n",
        "# It may cause a significant impact on the mean and the standard deviation\n",
        "# Various ways of finding the outlier.\n",
        "# Using scatter plots\n",
        "# Box plot\n",
        "# using z score\n",
        "# using the IQR interquantile range"
      ],
      "execution_count": 2,
      "outputs": []
    },
    {
      "cell_type": "code",
      "metadata": {
        "id": "mX7IFzj0kj3p"
      },
      "source": [
        "dataset= [11,10,12,14,12,15,14,13,15,102,12,14,17,19,107, 10,13,12,14,12,108,12,11,14,13,15,10,15,12,10,14,13,15,10]"
      ],
      "execution_count": 3,
      "outputs": []
    },
    {
      "cell_type": "code",
      "metadata": {
        "id": "DC3X6tU6kmyp"
      },
      "source": [
        "\n",
        "# Detecting outlier using Z score\n",
        "# Using Z score\n",
        "# Formula for Z score = (Observation — Mean)/Standard Deviation\n",
        "\n",
        "# z = (X — μ) / σ"
      ],
      "execution_count": 4,
      "outputs": []
    },
    {
      "cell_type": "code",
      "metadata": {
        "id": "c6-sN-GZkqg1"
      },
      "source": [
        "outliers=[]\n",
        "def detect_outliers(data):\n",
        "    \n",
        "    threshold=3\n",
        "    mean = np.mean(data)\n",
        "    std =np.std(data)\n",
        "    \n",
        "    \n",
        "    for i in data:\n",
        "        z_score= (i - mean)/std \n",
        "        if np.abs(z_score) > threshold:\n",
        "            outliers.append(i)\n",
        "    return outliers"
      ],
      "execution_count": 17,
      "outputs": []
    },
    {
      "cell_type": "code",
      "metadata": {
        "id": "zkOEcZAZktn4"
      },
      "source": [
        "\n",
        "outlier_pt=detect_outliers(dataset)"
      ],
      "execution_count": 18,
      "outputs": []
    },
    {
      "cell_type": "code",
      "metadata": {
        "id": "yT4hWcIwkx19"
      },
      "source": [
        "\n",
        "# InterQuantile Range\n",
        "# 75%- 25% values in a dataset\n",
        "\n",
        "# Steps\n",
        "# 1. Arrange the data in increasing order\n",
        "# 2. Calculate first(q1) and third quartile(q3)\n",
        "# 3. Find interquartile range (q3-q1)\n",
        "# 4.Find lower bound q1*1.5\n",
        "# 5.Find upper bound q3*1.5\n",
        "# Anything that lies outside of lower and upper bound is an outlier"
      ],
      "execution_count": 19,
      "outputs": []
    },
    {
      "cell_type": "code",
      "metadata": {
        "colab": {
          "base_uri": "https://localhost:8080/"
        },
        "id": "5gBfVPv0l2ig",
        "outputId": "68f0ea9a-b48a-447c-f36d-f4e68218d3b2"
      },
      "source": [
        "## Perform all the steps of IQR\n",
        "sorted(dataset)"
      ],
      "execution_count": 20,
      "outputs": [
        {
          "output_type": "execute_result",
          "data": {
            "text/plain": [
              "[10,\n",
              " 10,\n",
              " 10,\n",
              " 10,\n",
              " 10,\n",
              " 11,\n",
              " 11,\n",
              " 12,\n",
              " 12,\n",
              " 12,\n",
              " 12,\n",
              " 12,\n",
              " 12,\n",
              " 12,\n",
              " 13,\n",
              " 13,\n",
              " 13,\n",
              " 13,\n",
              " 14,\n",
              " 14,\n",
              " 14,\n",
              " 14,\n",
              " 14,\n",
              " 14,\n",
              " 15,\n",
              " 15,\n",
              " 15,\n",
              " 15,\n",
              " 15,\n",
              " 17,\n",
              " 19,\n",
              " 102,\n",
              " 107,\n",
              " 108]"
            ]
          },
          "metadata": {},
          "execution_count": 20
        }
      ]
    },
    {
      "cell_type": "code",
      "metadata": {
        "id": "oLSdQUm1l5L2"
      },
      "source": [
        "quantile1, quantile3= np.percentile(dataset,[25,75])"
      ],
      "execution_count": 21,
      "outputs": []
    },
    {
      "cell_type": "code",
      "metadata": {
        "colab": {
          "base_uri": "https://localhost:8080/"
        },
        "id": "1Tc8pN7ol8jT",
        "outputId": "bd63391e-d4bf-4d9c-8876-1b2ff2d1536a"
      },
      "source": [
        "print(quantile1,quantile3)"
      ],
      "execution_count": 22,
      "outputs": [
        {
          "output_type": "stream",
          "name": "stdout",
          "text": [
            "12.0 15.0\n"
          ]
        }
      ]
    },
    {
      "cell_type": "code",
      "metadata": {
        "colab": {
          "base_uri": "https://localhost:8080/"
        },
        "id": "z7i8Nq1Tl_JX",
        "outputId": "0b5f563e-44ab-460b-ee68-2af578b6d9ac"
      },
      "source": [
        "\n",
        "## Find the IQR\n",
        "\n",
        "iqr_value=quantile3-quantile1\n",
        "print(iqr_value)"
      ],
      "execution_count": 24,
      "outputs": [
        {
          "output_type": "stream",
          "name": "stdout",
          "text": [
            "3.0\n"
          ]
        }
      ]
    },
    {
      "cell_type": "code",
      "metadata": {
        "id": "Aa8N-NxnmBLI"
      },
      "source": [
        "## Find the lower bound value and the higher bound value\n",
        "\n",
        "lower_bound_val = quantile1 -(1.5 * iqr_value) \n",
        "upper_bound_val = quantile3 +(1.5 * iqr_value)"
      ],
      "execution_count": 27,
      "outputs": []
    },
    {
      "cell_type": "code",
      "metadata": {
        "colab": {
          "base_uri": "https://localhost:8080/"
        },
        "id": "q5xGiJ9bmGsg",
        "outputId": "2a6b179d-f78d-4fca-9b14-417ebecc4b02"
      },
      "source": [
        "print(lower_bound_val,upper_bound_val)\n"
      ],
      "execution_count": 28,
      "outputs": [
        {
          "output_type": "stream",
          "name": "stdout",
          "text": [
            "7.5 19.5\n"
          ]
        }
      ]
    },
    {
      "cell_type": "code",
      "metadata": {
        "id": "_OK7CocCmJqK"
      },
      "source": [
        ""
      ],
      "execution_count": null,
      "outputs": []
    }
  ]
}