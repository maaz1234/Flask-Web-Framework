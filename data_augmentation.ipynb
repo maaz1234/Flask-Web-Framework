{
  "nbformat": 4,
  "nbformat_minor": 0,
  "metadata": {
    "colab": {
      "name": "data_augmentation.ipynb",
      "provenance": [],
      "collapsed_sections": [],
      "mount_file_id": "1OsATnZ-07hQqb-lTR3SrvdvZtIQ7K1s6",
      "authorship_tag": "ABX9TyMOoZLIFEt6teHT7uZE3yhf",
      "include_colab_link": true
    },
    "kernelspec": {
      "name": "python3",
      "display_name": "Python 3"
    },
    "language_info": {
      "name": "python"
    },
    "accelerator": "GPU"
  },
  "cells": [
    {
      "cell_type": "markdown",
      "metadata": {
        "id": "view-in-github",
        "colab_type": "text"
      },
      "source": [
        "<a href=\"https://colab.research.google.com/github/maaz1234/Flask-Web-Framework/blob/main/data_augmentation.ipynb\" target=\"_parent\"><img src=\"https://colab.research.google.com/assets/colab-badge.svg\" alt=\"Open In Colab\"/></a>"
      ]
    },
    {
      "cell_type": "code",
      "metadata": {
        "id": "hjRhe4tRND3X"
      },
      "source": [
        "import tensorflow as tf\n",
        "from tensorflow import keras\n",
        "import os"
      ],
      "execution_count": 4,
      "outputs": []
    },
    {
      "cell_type": "code",
      "metadata": {
        "colab": {
          "base_uri": "https://localhost:8080/",
          "height": 35
        },
        "id": "2b2yfDD5LP2l",
        "outputId": "29395df9-0821-4f0c-bb3c-c3139f497931"
      },
      "source": [
        "tf.test.gpu_device_name()"
      ],
      "execution_count": 5,
      "outputs": [
        {
          "output_type": "execute_result",
          "data": {
            "application/vnd.google.colaboratory.intrinsic+json": {
              "type": "string"
            },
            "text/plain": [
              "'/device:GPU:0'"
            ]
          },
          "metadata": {},
          "execution_count": 5
        }
      ]
    },
    {
      "cell_type": "code",
      "metadata": {
        "id": "6Bx1mMJoLe3a"
      },
      "source": [
        "from keras.preprocessing.image import ImageDataGenerator , array_to_img, img_to_array ,load_img\n",
        "\n",
        "datagen = ImageDataGenerator(rotation_range = 40 , width_shift_range  = 0.2, height_shift_range = 0.2, shear_range = 0.2 , zoom_range = 0.2, horizontal_flip =True, fill_mode = 'nearest')\n",
        "img  = load_img(\"/content/drive/MyDrive/preview/cat_or_dog_2.jpg\")\n",
        "\n",
        "x =img_to_array(img)\n",
        "x = x.reshape((1,) + x.shape)\n",
        "i = 0\n",
        "for batch in datagen.flow(x, batch_size= 1,save_to_dir = '/content/drive/MyDrive/preview/preview', save_prefix = 'cat',save_format = 'jpeg'):\n",
        "  i += 1\n",
        "  if i > 20:\n",
        "    break \n"
      ],
      "execution_count": 16,
      "outputs": []
    },
    {
      "cell_type": "code",
      "metadata": {
        "id": "MhOUg3XEI5pW"
      },
      "source": [
        ""
      ],
      "execution_count": null,
      "outputs": []
    },
    {
      "cell_type": "code",
      "metadata": {
        "id": "J-nxf9tAW9Ub"
      },
      "source": [
        ""
      ],
      "execution_count": null,
      "outputs": []
    }
  ]
}